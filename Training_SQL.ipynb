{
 "cells": [
  {
   "cell_type": "markdown",
   "id": "49eb3da6-ce2a-463d-bdb6-77776ceee319",
   "metadata": {},
   "source": [
    "# SQL"
   ]
  },
  {
   "cell_type": "code",
   "execution_count": 6,
   "id": "af63f93b-4ff9-4902-9ae1-d8239309f6d3",
   "metadata": {},
   "outputs": [],
   "source": [
    "import sqlite3"
   ]
  },
  {
   "cell_type": "code",
   "execution_count": 7,
   "id": "65d1f436-5cb1-4692-a36a-6f040212c72b",
   "metadata": {},
   "outputs": [],
   "source": [
    "con=sqlite3.connect(\"mysql.db\")"
   ]
  },
  {
   "cell_type": "code",
   "execution_count": 8,
   "id": "c83bda5a-30ed-4d39-a88c-d18e8eedeb3c",
   "metadata": {},
   "outputs": [],
   "source": [
    "cursor=con.cursor()"
   ]
  },
  {
   "cell_type": "code",
   "execution_count": 9,
   "id": "a2448ca7-7c2b-4324-8dfd-da47a8e2e954",
   "metadata": {},
   "outputs": [
    {
     "ename": "OperationalError",
     "evalue": "table student1 already exists",
     "output_type": "error",
     "traceback": [
      "\u001b[31m---------------------------------------------------------------------------\u001b[39m",
      "\u001b[31mOperationalError\u001b[39m                          Traceback (most recent call last)",
      "\u001b[36mCell\u001b[39m\u001b[36m \u001b[39m\u001b[32mIn[9]\u001b[39m\u001b[32m, line 1\u001b[39m\n\u001b[32m----> \u001b[39m\u001b[32m1\u001b[39m \u001b[43mcursor\u001b[49m\u001b[43m.\u001b[49m\u001b[43mexecute\u001b[49m\u001b[43m(\u001b[49m\u001b[33;43m\"\"\"\u001b[39;49m\n\u001b[32m      2\u001b[39m \u001b[33;43m   CREATE TABLE student1(\u001b[39;49m\n\u001b[32m      3\u001b[39m \u001b[33;43m   st_id INTEGER,\u001b[39;49m\n\u001b[32m      4\u001b[39m \u001b[33;43m   st_name TEXT,\u001b[39;49m\n\u001b[32m      5\u001b[39m \u001b[33;43m   st_marks DECIMAL,\u001b[39;49m\n\u001b[32m      6\u001b[39m \u001b[33;43m   st_subjects TEXT\u001b[39;49m\n\u001b[32m      7\u001b[39m \u001b[33;43m   )\u001b[39;49m\n\u001b[32m      8\u001b[39m \u001b[33;43m   \u001b[39;49m\u001b[33;43m\"\"\"\u001b[39;49m\u001b[43m)\u001b[49m\n",
      "\u001b[31mOperationalError\u001b[39m: table student1 already exists"
     ]
    }
   ],
   "source": [
    "cursor.execute(\"\"\"\n",
    "   CREATE TABLE student1(\n",
    "   st_id INTEGER,\n",
    "   st_name TEXT,\n",
    "   st_marks DECIMAL,\n",
    "   st_subjects TEXT\n",
    "   )\n",
    "   \"\"\")"
   ]
  },
  {
   "cell_type": "code",
   "execution_count": 10,
   "id": "7cf12e75-95bd-44ed-944a-566c8a40260b",
   "metadata": {},
   "outputs": [
    {
     "data": {
      "text/plain": [
       "<sqlite3.Cursor at 0x1c1aa3d5ec0>"
      ]
     },
     "execution_count": 10,
     "metadata": {},
     "output_type": "execute_result"
    }
   ],
   "source": [
    "cursor.execute(\"select name from sqlite_master where type='table'; \")"
   ]
  },
  {
   "cell_type": "code",
   "execution_count": 11,
   "id": "1e3b8a9b-22b8-4df6-b550-31e83b3d9253",
   "metadata": {},
   "outputs": [
    {
     "data": {
      "text/plain": [
       "[('student1',)]"
      ]
     },
     "execution_count": 11,
     "metadata": {},
     "output_type": "execute_result"
    }
   ],
   "source": [
    "cursor.fetchall()"
   ]
  },
  {
   "cell_type": "code",
   "execution_count": 12,
   "id": "d53c5ec5-8225-49f2-8068-659c7793bb4d",
   "metadata": {},
   "outputs": [
    {
     "data": {
      "text/plain": [
       "[(1, 'sun', 23, 'chem'), (3, 'Moon', 34, 'math'), (5, 'Luke', 43, 'zeo')]"
      ]
     },
     "execution_count": 12,
     "metadata": {},
     "output_type": "execute_result"
    }
   ],
   "source": [
    "stud_data=[(1, \"sun\", 23, \"chem\"), (3, \"Moon\", 34, \"math\"), (5, \"Luke\", 43, \"zeo\")]\n",
    "stud_data"
   ]
  },
  {
   "cell_type": "code",
   "execution_count": 13,
   "id": "4e4fe32b-e5ad-4c0b-8310-8f3b5acdca3a",
   "metadata": {},
   "outputs": [
    {
     "data": {
      "text/plain": [
       "<sqlite3.Cursor at 0x1c1aa3d5ec0>"
      ]
     },
     "execution_count": 13,
     "metadata": {},
     "output_type": "execute_result"
    }
   ],
   "source": [
    "cursor.executemany(\"INSERT INTO student1 (st_id, st_name, st_marks, st_subjects) VALUES(?,?,?,?)\", stud_data)"
   ]
  },
  {
   "cell_type": "code",
   "execution_count": 14,
   "id": "92c04a16-5fe1-47a5-93c0-ddbf75a10247",
   "metadata": {},
   "outputs": [
    {
     "data": {
      "text/plain": [
       "<sqlite3.Cursor at 0x1c1aa3d5ec0>"
      ]
     },
     "execution_count": 14,
     "metadata": {},
     "output_type": "execute_result"
    }
   ],
   "source": [
    "cursor.execute(\"select * from student1 where st_marks >40\")"
   ]
  },
  {
   "cell_type": "code",
   "execution_count": 15,
   "id": "74057626-7d5f-4161-80c7-09994f7518bb",
   "metadata": {},
   "outputs": [
    {
     "data": {
      "text/plain": [
       "[(5, 'Luke', 43, 'zeo')]"
      ]
     },
     "execution_count": 15,
     "metadata": {},
     "output_type": "execute_result"
    }
   ],
   "source": [
    "cursor.fetchall()"
   ]
  },
  {
   "cell_type": "code",
   "execution_count": 16,
   "id": "5d3a1755-1bbb-4e97-ab94-3f841e43a170",
   "metadata": {},
   "outputs": [
    {
     "data": {
      "text/plain": [
       "(3, 33.333333333333336)"
      ]
     },
     "execution_count": 16,
     "metadata": {},
     "output_type": "execute_result"
    }
   ],
   "source": [
    "cursor.execute(\"select COUNT(*), AVG(st_marks) from student1\").fetchone()"
   ]
  },
  {
   "cell_type": "code",
   "execution_count": 17,
   "id": "3231b105-7269-4d09-8746-5bb564417afa",
   "metadata": {},
   "outputs": [
    {
     "data": {
      "text/plain": [
       "<sqlite3.Cursor at 0x1c1aa3d5ec0>"
      ]
     },
     "execution_count": 17,
     "metadata": {},
     "output_type": "execute_result"
    }
   ],
   "source": [
    "cursor.execute(\"UPDATE student1 set st_name='Sunny' where st_id=1\")"
   ]
  },
  {
   "cell_type": "code",
   "execution_count": 18,
   "id": "6cdc270a-f7bb-48ad-8f39-bd475453934c",
   "metadata": {},
   "outputs": [
    {
     "data": {
      "text/plain": [
       "[(1, 'sun', 23, 'chem'), (3, 'Moon', 34, 'math'), (5, 'Luke', 43, 'zeo')]"
      ]
     },
     "execution_count": 18,
     "metadata": {},
     "output_type": "execute_result"
    }
   ],
   "source": [
    "stud_data"
   ]
  },
  {
   "cell_type": "code",
   "execution_count": 19,
   "id": "871cafc5-9fd8-43d7-8189-e7c74ac18126",
   "metadata": {},
   "outputs": [
    {
     "data": {
      "text/plain": [
       "<sqlite3.Cursor at 0x1c1aa3d5ec0>"
      ]
     },
     "execution_count": 19,
     "metadata": {},
     "output_type": "execute_result"
    }
   ],
   "source": [
    "cursor.execute(\"UPDATE student1 set st_name='Sunny' where st_id= 1\")"
   ]
  },
  {
   "cell_type": "code",
   "execution_count": 20,
   "id": "907a2660-982b-42ec-94fd-2beff379c732",
   "metadata": {},
   "outputs": [
    {
     "data": {
      "text/plain": [
       "[(1, 'sun', 23, 'chem'), (3, 'Moon', 34, 'math'), (5, 'Luke', 43, 'zeo')]"
      ]
     },
     "execution_count": 20,
     "metadata": {},
     "output_type": "execute_result"
    }
   ],
   "source": [
    "stud_data"
   ]
  },
  {
   "cell_type": "code",
   "execution_count": 21,
   "id": "7fa8892b-13a5-464e-b00c-57b822a7a573",
   "metadata": {},
   "outputs": [
    {
     "data": {
      "text/plain": [
       "<sqlite3.Cursor at 0x1c1aa3d5ec0>"
      ]
     },
     "execution_count": 21,
     "metadata": {},
     "output_type": "execute_result"
    }
   ],
   "source": [
    "cursor.execute(\"UPDATE student1 set st_name='Sunny' where st_id= 3\")"
   ]
  },
  {
   "cell_type": "code",
   "execution_count": 22,
   "id": "479aeafe-d785-40b9-be51-0d8dad55edb1",
   "metadata": {},
   "outputs": [
    {
     "data": {
      "text/plain": [
       "[]"
      ]
     },
     "execution_count": 22,
     "metadata": {},
     "output_type": "execute_result"
    }
   ],
   "source": [
    "cursor.fetchall()"
   ]
  },
  {
   "cell_type": "code",
   "execution_count": 23,
   "id": "515ea56c-9bad-4a32-a3f6-2a23c0eab913",
   "metadata": {},
   "outputs": [
    {
     "data": {
      "text/plain": [
       "[(1, 'Sunny', 23, 'chem'), (3, 'Sunny', 34, 'math'), (5, 'Luke', 43, 'zeo')]"
      ]
     },
     "execution_count": 23,
     "metadata": {},
     "output_type": "execute_result"
    }
   ],
   "source": [
    "cursor.execute(\"select * from student1\").fetchall()"
   ]
  },
  {
   "cell_type": "code",
   "execution_count": null,
   "id": "849a8324-682a-4d84-a5ac-7a5c39798eba",
   "metadata": {},
   "outputs": [],
   "source": []
  }
 ],
 "metadata": {
  "kernelspec": {
   "display_name": "Python 3 (ipykernel)",
   "language": "python",
   "name": "python3"
  },
  "language_info": {
   "codemirror_mode": {
    "name": "ipython",
    "version": 3
   },
   "file_extension": ".py",
   "mimetype": "text/x-python",
   "name": "python",
   "nbconvert_exporter": "python",
   "pygments_lexer": "ipython3",
   "version": "3.13.7"
  }
 },
 "nbformat": 4,
 "nbformat_minor": 5
}
