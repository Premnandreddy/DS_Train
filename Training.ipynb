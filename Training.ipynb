{
 "cells": [
  {
   "cell_type": "code",
   "execution_count": 1,
   "id": "038213ab-9715-4b52-b96c-2a2986156362",
   "metadata": {},
   "outputs": [
    {
     "name": "stdout",
     "output_type": "stream",
     "text": [
      "Hello, World\n"
     ]
    }
   ],
   "source": [
    "print(\"Hello, World\")"
   ]
  },
  {
   "cell_type": "code",
   "execution_count": 11,
   "id": "20597b6a-647a-444d-ab6e-4d19a38b1897",
   "metadata": {},
   "outputs": [
    {
     "name": "stdout",
     "output_type": "stream",
     "text": [
      "Hello, World\n"
     ]
    }
   ],
   "source": [
    "def f(x):\n",
    "    return x\n",
    "    \n",
    "print(f('Hello, World'))"
   ]
  },
  {
   "cell_type": "code",
   "execution_count": 16,
   "id": "ba17c7b3-2244-4a54-ad78-ebffd2d8b8e8",
   "metadata": {},
   "outputs": [
    {
     "name": "stdout",
     "output_type": "stream",
     "text": [
      "9.0\n"
     ]
    }
   ],
   "source": [
    "import math\n",
    "print(math.sqrt(81))"
   ]
  },
  {
   "cell_type": "code",
   "execution_count": 22,
   "id": "489fbeb9-e93f-44b8-ae1f-8803493af14e",
   "metadata": {},
   "outputs": [
    {
     "name": "stdout",
     "output_type": "stream",
     "text": [
      "solution=  5.0\n"
     ]
    }
   ],
   "source": [
    "try:\n",
    "    x=10/2\n",
    "    print(\"solution= \", x)\n",
    "except ZeroDivisionError:\n",
    "    print(\"Not possible\")"
   ]
  },
  {
   "cell_type": "markdown",
   "id": "a88f9712-2f75-4b29-9166-c23a5836d6cb",
   "metadata": {},
   "source": [
    "TRAINING\n"
   ]
  },
  {
   "cell_type": "markdown",
   "id": "a846de65-2b86-4c2f-8d73-7f17483b3de2",
   "metadata": {},
   "source": [
    "### First Class"
   ]
  },
  {
   "cell_type": "markdown",
   "id": "80e6ffaa-859f-43f2-8bb5-d52092bb6f00",
   "metadata": {},
   "source": [
    "## Variable"
   ]
  },
  {
   "cell_type": "markdown",
   "id": "2c0d60e3-84ce-4e58-9329-8da51adb67c5",
   "metadata": {},
   "source": [
    "# DAY 1"
   ]
  },
  {
   "cell_type": "code",
   "execution_count": 29,
   "id": "9b7bb2a1-cd77-47fc-ad8b-41b152e0345c",
   "metadata": {},
   "outputs": [
    {
     "data": {
      "text/plain": [
       "float"
      ]
     },
     "execution_count": 29,
     "metadata": {},
     "output_type": "execute_result"
    }
   ],
   "source": [
    "a=1.9\n",
    "type(a)"
   ]
  },
  {
   "cell_type": "code",
   "execution_count": 38,
   "id": "8a129a8f-05f3-4497-85a9-d525f2965278",
   "metadata": {},
   "outputs": [
    {
     "name": "stdout",
     "output_type": "stream",
     "text": [
      "11.5\n",
      "4.5\n",
      "28.0\n",
      "2.2857142857142856\n",
      "2.0\n",
      "1.0\n",
      "1448.1546878700494\n"
     ]
    }
   ],
   "source": [
    "a=8\n",
    "b=3.5\n",
    "print(a+b)\n",
    "print(a-b)\n",
    "print(a*b)\n",
    "print(a/b)\n",
    "print(a//b)\n",
    "print(a%b)\n",
    "print(a**b)"
   ]
  },
  {
   "cell_type": "code",
   "execution_count": 42,
   "id": "922a4baa-ee41-4c92-88e5-249359e5327c",
   "metadata": {},
   "outputs": [
    {
     "name": "stdin",
     "output_type": "stream",
     "text": [
      "enter a number:  2\n",
      "enter a name:  QWERTYUIOP\n"
     ]
    }
   ],
   "source": [
    "X=int(input(\"enter a number: \"))\n",
    "Y=input(\"enter a name: \")"
   ]
  },
  {
   "cell_type": "code",
   "execution_count": 61,
   "id": "f23b0adc-5ee6-494c-9b31-4ff37f95e773",
   "metadata": {},
   "outputs": [
    {
     "data": {
      "text/plain": [
       "int"
      ]
     },
     "execution_count": 61,
     "metadata": {},
     "output_type": "execute_result"
    }
   ],
   "source": [
    "type(X)"
   ]
  },
  {
   "cell_type": "code",
   "execution_count": 63,
   "id": "08beabf3-2e04-403c-9bc7-97b88a11c0c6",
   "metadata": {},
   "outputs": [
    {
     "name": "stdin",
     "output_type": "stream",
     "text": [
      "enter a n:  23\n"
     ]
    },
    {
     "data": {
      "text/plain": [
       "str"
      ]
     },
     "execution_count": 63,
     "metadata": {},
     "output_type": "execute_result"
    }
   ],
   "source": [
    "first_nu=input(\"enter a n: \")\n",
    "type(first_nu)"
   ]
  },
  {
   "cell_type": "code",
   "execution_count": 64,
   "id": "e7af2994-a6e9-4fe7-9f18-b0d85eacf8b3",
   "metadata": {},
   "outputs": [],
   "source": [
    "type_casting= float(first_nu)"
   ]
  },
  {
   "cell_type": "code",
   "execution_count": 65,
   "id": "e513cd78-5d60-498d-8c8c-ed169f9cd0c6",
   "metadata": {},
   "outputs": [
    {
     "data": {
      "text/plain": [
       "float"
      ]
     },
     "execution_count": 65,
     "metadata": {},
     "output_type": "execute_result"
    }
   ],
   "source": [
    "type(type_casting)"
   ]
  },
  {
   "cell_type": "code",
   "execution_count": 66,
   "id": "e38b52b2-06e3-41a4-91d3-a421a0919163",
   "metadata": {},
   "outputs": [
    {
     "data": {
      "text/plain": [
       "23.0"
      ]
     },
     "execution_count": 66,
     "metadata": {},
     "output_type": "execute_result"
    }
   ],
   "source": [
    "type_casting\n"
   ]
  },
  {
   "cell_type": "code",
   "execution_count": 73,
   "id": "b74898f7-e600-4421-987c-605547191579",
   "metadata": {},
   "outputs": [
    {
     "name": "stdout",
     "output_type": "stream",
     "text": [
      "Select\n",
      "1.Add\n",
      "2.Sub\n",
      "3.Div\n"
     ]
    },
    {
     "name": "stdin",
     "output_type": "stream",
     "text": [
      "Enter your choice(1/2/3):  3\n",
      "enter a number:  3\n",
      "enter a number:  0\n"
     ]
    },
    {
     "name": "stdout",
     "output_type": "stream",
     "text": [
      "Invalid input\n"
     ]
    }
   ],
   "source": [
    "print(\"Select\")\n",
    "print(\"1.Add\")\n",
    "print(\"2.Sub\")\n",
    "print(\"3.Div\")\n",
    "\n",
    "out= input(\"Enter your choice(1/2/3): \")\n",
    "\n",
    "n=int(input(\"enter a number: \"))\n",
    "m=int(input(\"enter a number: \"))\n",
    "\n",
    "if out== \"1\":\n",
    "    print(n+m)\n",
    "elif out== \"2\":\n",
    "    print(n-m)\n",
    "elif out== \"3\":\n",
    "    if m!=0:\n",
    "        print(n/m)\n",
    "    else:\n",
    "        print(\"Invalid input\")\n",
    "else:\n",
    "    print(\"Not valid num\")"
   ]
  },
  {
   "cell_type": "code",
   "execution_count": 81,
   "id": "899de27f-351a-4a83-8fca-618aa5a313f7",
   "metadata": {},
   "outputs": [
    {
     "name": "stdout",
     "output_type": "stream",
     "text": [
      "I'm a number:  -5\n",
      "I'm a number:  -4\n",
      "I'm a number:  -3\n",
      "I'm a number:  -2\n",
      "I'm a number:  -1\n",
      "I'm a number:  0\n",
      "I'm a number:  1\n",
      "I'm a number:  2\n",
      "I'm a number:  3\n",
      "I'm a number:  4\n"
     ]
    }
   ],
   "source": [
    "for i in range(-5, 5):\n",
    "    print(\"I'm a number: \", i)"
   ]
  },
  {
   "cell_type": "code",
   "execution_count": 39,
   "id": "5e3ef903-16f1-4142-b760-e924245731db",
   "metadata": {},
   "outputs": [
    {
     "name": "stdout",
     "output_type": "stream",
     "text": [
      "0\n",
      "1\n",
      "2\n",
      "3\n",
      "4\n"
     ]
    },
    {
     "name": "stdin",
     "output_type": "stream",
     "text": [
      "Repeat? (yes/no):  no\n"
     ]
    },
    {
     "ename": "SyntaxError",
     "evalue": "'break' outside loop (325832526.py, line 8)",
     "output_type": "error",
     "traceback": [
      "  \u001b[36mCell\u001b[39m\u001b[36m \u001b[39m\u001b[32mIn[39]\u001b[39m\u001b[32m, line 8\u001b[39m\n\u001b[31m    \u001b[39m\u001b[31mbreak\u001b[39m\n    ^\n\u001b[31mSyntaxError\u001b[39m\u001b[31m:\u001b[39m 'break' outside loop\n"
     ]
    }
   ],
   "source": [
    "i=0\n",
    "while i<5:\n",
    "    print(i)\n",
    "    i+=1\n",
    "x = input(\"Repeat? (yes/no): \")\n",
    "if x != \"yes\":\n",
    "    print(\"Thank you\")\n",
    "    break\n",
    "        "
   ]
  },
  {
   "cell_type": "code",
   "execution_count": 135,
   "id": "f72591a9-27d1-4177-8ae5-6c4d763e4315",
   "metadata": {},
   "outputs": [
    {
     "name": "stdout",
     "output_type": "stream",
     "text": [
      "Select\n",
      "1. Add\n",
      "2. Sub\n",
      "3. Div\n",
      "4. More\n"
     ]
    },
    {
     "name": "stdin",
     "output_type": "stream",
     "text": [
      "Enter your choice (1/2/3/4):  4\n"
     ]
    },
    {
     "name": "stdout",
     "output_type": "stream",
     "text": [
      "Not a valid choice\n"
     ]
    },
    {
     "name": "stdin",
     "output_type": "stream",
     "text": [
      "More calculations? (yes/no):  yes\n"
     ]
    },
    {
     "name": "stdout",
     "output_type": "stream",
     "text": [
      "Select\n",
      "1. Add\n",
      "2. Sub\n",
      "3. Div\n",
      "4. More\n"
     ]
    },
    {
     "name": "stdin",
     "output_type": "stream",
     "text": [
      "Enter your choice (1/2/3/4):  1\n",
      "Enter a number:  2\n",
      "Enter another number:  4\n"
     ]
    },
    {
     "name": "stdout",
     "output_type": "stream",
     "text": [
      "Result: 6\n"
     ]
    },
    {
     "name": "stdin",
     "output_type": "stream",
     "text": [
      "More calculations? (yes/no):  no\n"
     ]
    },
    {
     "name": "stdout",
     "output_type": "stream",
     "text": [
      "You're done, thank you!\n"
     ]
    }
   ],
   "source": [
    "while True:\n",
    "    print(\"Select\")\n",
    "    print(\"1. Add\")\n",
    "    print(\"2. Sub\")\n",
    "    print(\"3. Div\")\n",
    "    print(\"4. More\")\n",
    "\n",
    "    out = input(\"Enter your choice (1/2/3/4): \")\n",
    "\n",
    "    if out in [\"1\", \"2\", \"3\"]:\n",
    "        n = int(input(\"Enter a number: \"))\n",
    "        m = int(input(\"Enter a number: \"))\n",
    "\n",
    "        if out == \"1\":\n",
    "            print(\"Result:\", n + m)\n",
    "        elif out == \"2\":\n",
    "            print(\"Result:\", n - m)\n",
    "        elif out == \"3\":\n",
    "            if m != 0:\n",
    "                print(\"Result:\", n / m)\n",
    "            else:\n",
    "                print(\"Invalid input: Division by zero\")\n",
    "    else:\n",
    "        print(\"Not a valid choice\")\n",
    "\n",
    "    user_continue = input(\"More calculations? (yes/no): \").lower()\n",
    "    if user_continue != \"yes\":\n",
    "        print(\"You're done, thank you!\")\n",
    "        break\n"
   ]
  },
  {
   "cell_type": "code",
   "execution_count": 136,
   "id": "d3cc3872-398b-46a7-9e2b-8212b03ae932",
   "metadata": {},
   "outputs": [
    {
     "name": "stdout",
     "output_type": "stream",
     "text": [
      "Hello, World\n"
     ]
    }
   ],
   "source": [
    "def f(x):\n",
    "    return x\n",
    "print(f('Hello, World'))"
   ]
  },
  {
   "cell_type": "code",
   "execution_count": 41,
   "id": "543469bc-760b-4fb6-87b7-9cc0fd86adde",
   "metadata": {},
   "outputs": [
    {
     "name": "stdout",
     "output_type": "stream",
     "text": [
      "Selcect your Choice of Operation\n",
      "Mathematical\n",
      "Logical\n"
     ]
    },
    {
     "name": "stdin",
     "output_type": "stream",
     "text": [
      "enter your choice(1/2):  2\n",
      "Enter your choice ('AND','OR','NOT'):  AND\n",
      "enter a boolean(True/False): True\n",
      "enter a boolean(True/False): False\n"
     ]
    },
    {
     "name": "stdout",
     "output_type": "stream",
     "text": [
      "False\n"
     ]
    },
    {
     "name": "stdin",
     "output_type": "stream",
     "text": [
      "Would you like to do more caluculations? (yes/no):  yes\n"
     ]
    },
    {
     "name": "stdout",
     "output_type": "stream",
     "text": [
      "Selcect your Choice of Operation\n",
      "Mathematical\n",
      "Logical\n"
     ]
    },
    {
     "name": "stdin",
     "output_type": "stream",
     "text": [
      "enter your choice(1/2):  1\n",
      "Enter your choice (+,-,/,*):  /\n",
      "enter a number:  1\n",
      "enter a number:  5\n"
     ]
    },
    {
     "name": "stdout",
     "output_type": "stream",
     "text": [
      "0.2\n"
     ]
    },
    {
     "name": "stdin",
     "output_type": "stream",
     "text": [
      "Would you like to do more caluculations? (yes/no):  yes\n"
     ]
    },
    {
     "name": "stdout",
     "output_type": "stream",
     "text": [
      "Selcect your Choice of Operation\n",
      "Mathematical\n",
      "Logical\n"
     ]
    },
    {
     "name": "stdin",
     "output_type": "stream",
     "text": [
      "enter your choice(1/2):  2\n",
      "Enter your choice ('AND','OR','NOT'):  NOT\n",
      "enter a boolean(True/False):  TRUE\n"
     ]
    },
    {
     "name": "stdout",
     "output_type": "stream",
     "text": [
      "False\n"
     ]
    },
    {
     "name": "stdin",
     "output_type": "stream",
     "text": [
      "Would you like to do more caluculations? (yes/no):  NO\n"
     ]
    },
    {
     "name": "stdout",
     "output_type": "stream",
     "text": [
      "Thank you, come back again\n"
     ]
    }
   ],
   "source": [
    "def mathematical_operations():\n",
    "    O1=input(\"Enter your choice (+,-,/,*): \")\n",
    "    n=int(input(\"enter a number: \"))\n",
    "    m=int(input(\"enter a number: \"))\n",
    "    if O1==\"+\":\n",
    "        print(m+n)\n",
    "    elif O1==\"-\":\n",
    "        print(n-m)\n",
    "    elif O1==\"*\":\n",
    "        print(m*n)\n",
    "    elif O1==\"/\":\n",
    "        if m!=0:\n",
    "            print(n/m)\n",
    "        else:\n",
    "            print(\"Invalid input\")\n",
    "    else:\n",
    "        print(\"Not a valid choice\")\n",
    "    \n",
    "def logical_operations():\n",
    "    O2=input(\"Enter your choice ('AND','OR','NOT'): \")\n",
    "    if O2 in ['AND', 'OR']:\n",
    "        n=input(\"enter a boolean(True/False):\").capitalize()==\"True\"\n",
    "        m=input(\"enter a boolean(True/False):\").capitalize()==\"True\"\n",
    "        if O2==\"AND\":\n",
    "            print(n and m)\n",
    "        elif O2==\"OR\":\n",
    "            print(n or m)\n",
    "    elif O2==\"NOT\":\n",
    "         n= input(\"enter a boolean(True/False): \").capitalize()==\"True\"\n",
    "         print( not n)\n",
    "    else:\n",
    "        print(\"Invalid input\")\n",
    "        \n",
    "while True:\n",
    "    print(\"Selcect your Choice of Operation\")\n",
    "    print(\"Mathematical\")\n",
    "    print(\"Logical\")\n",
    "\n",
    "    operations=input(\"enter your choice(1/2): \")\n",
    "    if operations==\"1\":\n",
    "     mathematical_operations()\n",
    "    elif operations==\"2\":\n",
    "     logical_operations()\n",
    "    else:\n",
    "      print(\"Invalid choice\")\n",
    "\n",
    "    user_continue=input(\"Would you like to do more caluculations? (yes/no): \").lower()\n",
    "    if user_continue!=\"yes\":\n",
    "     print(\"Thank you, come back again\")\n",
    "     break\n"
   ]
  },
  {
   "cell_type": "code",
   "execution_count": 51,
   "id": "7789cbcc-6e76-41f7-a0b2-bbbde47a1d70",
   "metadata": {},
   "outputs": [
    {
     "name": "stdout",
     "output_type": "stream",
     "text": [
      "[1, 2, 3, 'Str']\n"
     ]
    },
    {
     "data": {
      "text/plain": [
       "1"
      ]
     },
     "execution_count": 51,
     "metadata": {},
     "output_type": "execute_result"
    }
   ],
   "source": [
    "a=[1,2,3,\"Str\"]\n",
    "print(a)\n",
    "len(a)\n",
    "a[0:2]\n",
    "a[-1]\n",
    "a[-4]"
   ]
  },
  {
   "cell_type": "code",
   "execution_count": 52,
   "id": "072e921f-8544-4c49-bb91-89fe28425e2d",
   "metadata": {},
   "outputs": [],
   "source": [
    "a[0]=5"
   ]
  },
  {
   "cell_type": "code",
   "execution_count": 54,
   "id": "9dff763c-2484-4bef-b9c7-599911bc455c",
   "metadata": {},
   "outputs": [
    {
     "data": {
      "text/plain": [
       "[5, 2, 3, 'Str']"
      ]
     },
     "execution_count": 54,
     "metadata": {},
     "output_type": "execute_result"
    }
   ],
   "source": [
    "a #list is mutable(can add or delete variables)"
   ]
  },
  {
   "cell_type": "code",
   "execution_count": 56,
   "id": "daa73c56-cfb4-465b-ab72-9e301c593d05",
   "metadata": {},
   "outputs": [
    {
     "data": {
      "text/plain": [
       "(2, 8, 'So')"
      ]
     },
     "execution_count": 56,
     "metadata": {},
     "output_type": "execute_result"
    }
   ],
   "source": [
    "b=(2,8,\"So\")\n",
    "b #tuples are immutable."
   ]
  },
  {
   "cell_type": "code",
   "execution_count": 72,
   "id": "366579fc-b497-48cf-ba9c-5469bfe87ad2",
   "metadata": {},
   "outputs": [
    {
     "data": {
      "text/plain": [
       "dict_keys(['key', 'Key1', 'lock'])"
      ]
     },
     "execution_count": 72,
     "metadata": {},
     "output_type": "execute_result"
    }
   ],
   "source": [
    "#dict : key, value\n",
    "dict ={\"key\" : \"Sun\", \"Key1\": 1000, \"lock\": \"Tree\"}\n",
    "dict.keys()"
   ]
  },
  {
   "cell_type": "code",
   "execution_count": 73,
   "id": "ecc2b924-c268-4f46-884c-e6a86a3050ce",
   "metadata": {},
   "outputs": [
    {
     "data": {
      "text/plain": [
       "dict_values(['Sun', 1000, 'Tree'])"
      ]
     },
     "execution_count": 73,
     "metadata": {},
     "output_type": "execute_result"
    }
   ],
   "source": [
    "dict.values()"
   ]
  },
  {
   "cell_type": "code",
   "execution_count": 80,
   "id": "863140fa-de1e-4bb0-84b3-ee9894b88f3f",
   "metadata": {},
   "outputs": [
    {
     "name": "stdout",
     "output_type": "stream",
     "text": [
      "key Sun\n",
      "Key1 1000\n",
      "lock Tree\n"
     ]
    }
   ],
   "source": [
    "for key,value in dict.items():\n",
    "    print(key, value)"
   ]
  },
  {
   "cell_type": "code",
   "execution_count": 89,
   "id": "4b52b878-83f1-45bc-b735-bc898ca082a0",
   "metadata": {},
   "outputs": [
    {
     "name": "stdout",
     "output_type": "stream",
     "text": [
      "3 Sun\n",
      "4 1000\n",
      "4 Tree\n"
     ]
    }
   ],
   "source": [
    "for key, value in dict.items():\n",
    "   print(len(key), value)"
   ]
  },
  {
   "cell_type": "code",
   "execution_count": 165,
   "id": "368d898e-c7b6-40af-b3d0-e105b3c7de4c",
   "metadata": {},
   "outputs": [
    {
     "name": "stdout",
     "output_type": "stream",
     "text": [
      "marks=98 ,name=Ram\n",
      "marks=79 ,name=Shiva\n"
     ]
    }
   ],
   "source": [
    "dict= {98 : \"Ram\", 79 : \"Shiva\"}\n",
    "\n",
    "for m,n in dict.items():\n",
    "    print(f\"marks={m} ,name={n}\")"
   ]
  },
  {
   "cell_type": "code",
   "execution_count": 124,
   "id": "dadd383a-7693-4498-88ad-6782ce5e0584",
   "metadata": {},
   "outputs": [
    {
     "data": {
      "text/plain": [
       "26"
      ]
     },
     "execution_count": 124,
     "metadata": {},
     "output_type": "execute_result"
    }
   ],
   "source": [
    "a=[1,4,9,12]\n",
    "sum(a)"
   ]
  },
  {
   "cell_type": "code",
   "execution_count": 125,
   "id": "2b963be0-06fa-4d36-8b1d-014f3d27043d",
   "metadata": {},
   "outputs": [],
   "source": [
    "a.append(99)"
   ]
  },
  {
   "cell_type": "code",
   "execution_count": 126,
   "id": "1ea76a15-95ba-4742-9e65-a58ce0350148",
   "metadata": {},
   "outputs": [
    {
     "data": {
      "text/plain": [
       "[1, 4, 9, 12, 99]"
      ]
     },
     "execution_count": 126,
     "metadata": {},
     "output_type": "execute_result"
    }
   ],
   "source": [
    "a"
   ]
  },
  {
   "cell_type": "code",
   "execution_count": 127,
   "id": "24f63d67-d473-4bff-99df-6bb64f75cb0b",
   "metadata": {},
   "outputs": [],
   "source": [
    "y=[22,42,54]\n",
    "a.extend(y)"
   ]
  },
  {
   "cell_type": "code",
   "execution_count": 128,
   "id": "a30b8788-4573-4c83-8725-a26939b98e10",
   "metadata": {},
   "outputs": [
    {
     "data": {
      "text/plain": [
       "[1, 4, 9, 12, 99, 22, 42, 54]"
      ]
     },
     "execution_count": 128,
     "metadata": {},
     "output_type": "execute_result"
    }
   ],
   "source": [
    "a"
   ]
  },
  {
   "cell_type": "code",
   "execution_count": 129,
   "id": "1884d917-351e-4030-b060-a54ede77f178",
   "metadata": {},
   "outputs": [
    {
     "name": "stdout",
     "output_type": "stream",
     "text": [
      "[1, 4, 9, 16, 25]\n"
     ]
    }
   ],
   "source": [
    "ans=[i**2  for i in range(1,6)]\n",
    "print(ans)"
   ]
  },
  {
   "cell_type": "code",
   "execution_count": 149,
   "id": "622e291c-6182-4f91-bde3-a0e13be8ea97",
   "metadata": {},
   "outputs": [],
   "source": [
    "a=[3,4,5,1,6]\n",
    "del a[2] #index avlue\n",
    "a.pop() #last value\n",
    "a.remove(4)"
   ]
  },
  {
   "cell_type": "code",
   "execution_count": 157,
   "id": "c6207dd8-f080-4ff4-aafe-2719c83b897b",
   "metadata": {},
   "outputs": [],
   "source": [
    "lis=[1,2,3,4,105,110,111,113]"
   ]
  },
  {
   "cell_type": "code",
   "execution_count": 158,
   "id": "90a6efb8-ff59-4a65-a921-96f9d342fefa",
   "metadata": {},
   "outputs": [],
   "source": [
    "for i in [105,110,113]:\n",
    "    lis.remove(i)"
   ]
  },
  {
   "cell_type": "code",
   "execution_count": 159,
   "id": "5785975e-dea3-4b17-8f7a-cce2d9bf6823",
   "metadata": {},
   "outputs": [
    {
     "data": {
      "text/plain": [
       "[1, 2, 3, 4, 111]"
      ]
     },
     "execution_count": 159,
     "metadata": {},
     "output_type": "execute_result"
    }
   ],
   "source": [
    "lis"
   ]
  },
  {
   "cell_type": "code",
   "execution_count": 164,
   "id": "535aee22-9aef-425b-8eb7-9f2a7b38132c",
   "metadata": {},
   "outputs": [
    {
     "name": "stdout",
     "output_type": "stream",
     "text": [
      "[1, 4, 9, 16, 25]\n"
     ]
    }
   ],
   "source": [
    "a=[[1,2], [3,4,5]]\n",
    "ans =[g**2 for i in a for g in i]\n",
    "print(ans)"
   ]
  },
  {
   "cell_type": "code",
   "execution_count": null,
   "id": "885ced2e-9749-4142-b27b-cd24b5596dbb",
   "metadata": {},
   "outputs": [],
   "source": []
  },
  {
   "cell_type": "code",
   "execution_count": null,
   "id": "100064c2-13c8-4023-87f2-82f4d1c8b3c6",
   "metadata": {},
   "outputs": [],
   "source": []
  },
  {
   "cell_type": "code",
   "execution_count": null,
   "id": "613b7699-53f1-4771-90ad-bcf7af48bde3",
   "metadata": {},
   "outputs": [],
   "source": []
  }
 ],
 "metadata": {
  "kernelspec": {
   "display_name": "Python 3 (ipykernel)",
   "language": "python",
   "name": "python3"
  },
  "language_info": {
   "codemirror_mode": {
    "name": "ipython",
    "version": 3
   },
   "file_extension": ".py",
   "mimetype": "text/x-python",
   "name": "python",
   "nbconvert_exporter": "python",
   "pygments_lexer": "ipython3",
   "version": "3.13.7"
  }
 },
 "nbformat": 4,
 "nbformat_minor": 5
}
