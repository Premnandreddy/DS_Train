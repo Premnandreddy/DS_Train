{
 "cells": [
  {
   "cell_type": "markdown",
   "id": "8c7d135c-5594-4fd0-b219-230f2ffa11ed",
   "metadata": {},
   "source": [
    "Design and implement a Complete University Management System in Python using SQLite and functions (def) with the following requirements:\n",
    "1. Database (SQLite)\n",
    "Create the following tables:\n",
    "Departments (dept_id, dept_name, hod_name)\n",
    "Students (student_id, name, class, dept_id)\n",
    "Subjects (subject_id, subject_name, dept_id)\n",
    "Marks (mark_id, student_id, subject_id, marks)\n",
    "Insert:\n",
    "At least 2 departments, 5 students, 4 subjects, and marks for each student in all subjects.\n",
    "2. Python Functions\n",
    "Implement the following:\n",
    "def add_student(name, class, dept_id)\n",
    "def add_subject(subject_name, dept_id)\n",
    "def add_marks(student_id, subject_id, marks)\n",
    "def show_students() → Display students with department name (JOIN)\n",
    "def show_subjects() → Display all subjects with their department\n",
    "def show_marks() → Display each student’s marks with subject names (JOIN)\n",
    "def student_report(student_id) → Show subject-wise marks, total, average, grade, pass/fail\n",
    "def toppers() → Show topper in each subject + overall topper\n",
    "def department_summary() → Show average marks department-wise (JOIN + GROUP BY)\n",
    "def unique_subjects() → Return unique subjects as a set\n",
    " "
   ]
  },
  {
   "cell_type": "code",
   "execution_count": 1,
   "id": "c2b2c8bd-8f74-4286-9cce-d6648b262bfd",
   "metadata": {},
   "outputs": [],
   "source": [
    "import sqlite3"
   ]
  },
  {
   "cell_type": "code",
   "execution_count": null,
   "id": "026c9bff-39e2-4a23-ba2e-fb244eeb0b86",
   "metadata": {},
   "outputs": [],
   "source": [
    "def init_db():\n",
    "    con=sqlite3.connect(\"Uni.db\")\n",
    "    cursor=con.cursor()\n",
    "\n",
    "    cursor.execute(\"\"\"\n",
    "    CREATE TABLE Departments(\n",
    "    dept_id INTEGER PRIMARY KEY AUTOINCREMENT,\n",
    "    dept_name TEXT,\n",
    "    hod_name TEXT)\n",
    "    \"\"\")\n",
    "\n",
    "    cursor.execute(\"\"\"\n",
    "    CREATE TABLE Students(\n",
    "    student_id INTEGER PRIMARY KEY,\n",
    "    name TEXT,\n",
    "    class INTEGER,\n",
    "    dept_id INTEGER,\n",
    "    FOREIGN KEY (dept_id) REFERENCES Departments(dept_id))\n",
    "    \"\"\")\n",
    "\n",
    "    cursor.execute(\"\"\"\n",
    "    CREATE TABLE Subjects(\n",
    "    subject_id INTEGER PRIMARY KEY,\n",
    "    subject_name TEXT,\n",
    "    dept_id INTEGER,\n",
    "    FOREIGN KEY (dept_id) REFERENCES Departments(dept_id))\n",
    "    \"\"\")\n",
    "\n",
    "    cursor.execute(\"\"\"\n",
    "    CREATE TABLE Marks(\n",
    "    mark_id INTEGER PRIMARY KEY AUTOINCREMENT,\n",
    "    student_id INTEGER,\n",
    "    subject_id INTEGER,\n",
    "    marks INTEGER,\n",
    "    FOREIGN KEY (student_id) REFERENCES Students(student_id),\n",
    "    FOREIGN KEY (subject_id) REFERENCES Subjects(subject_id))\n",
    "    \"\"\")"
   ]
  },
  {
   "cell_type": "code",
   "execution_count": 4,
   "id": "0bef913d-6906-4f74-836e-74086ac409ee",
   "metadata": {},
   "outputs": [
    {
     "ename": "NameError",
     "evalue": "name 'cursor' is not defined",
     "output_type": "error",
     "traceback": [
      "\u001b[31m---------------------------------------------------------------------------\u001b[39m",
      "\u001b[31mNameError\u001b[39m                                 Traceback (most recent call last)",
      "\u001b[36mCell\u001b[39m\u001b[36m \u001b[39m\u001b[32mIn[4]\u001b[39m\u001b[32m, line 4\u001b[39m\n\u001b[32m      1\u001b[39m Departments=[(\u001b[33m'\u001b[39m\u001b[33mBusiness\u001b[39m\u001b[33m'\u001b[39m, \u001b[33m'\u001b[39m\u001b[33mLuke\u001b[39m\u001b[33m'\u001b[39m),\n\u001b[32m      2\u001b[39m              (\u001b[33m'\u001b[39m\u001b[33mScience\u001b[39m\u001b[33m'\u001b[39m, \u001b[33m'\u001b[39m\u001b[33mAlex\u001b[39m\u001b[33m'\u001b[39m)]\n\u001b[32m----> \u001b[39m\u001b[32m4\u001b[39m \u001b[43mcursor\u001b[49m.executemany(\u001b[33m\"\u001b[39m\u001b[33mINSERT INTO Departments (dept_name, hod_name) VALUES (?,?)\u001b[39m\u001b[33m\"\u001b[39m, Departments)\n\u001b[32m      6\u001b[39m Students=[(\u001b[32m1001\u001b[39m, \u001b[33m'\u001b[39m\u001b[33mJoe\u001b[39m\u001b[33m'\u001b[39m, \u001b[32m2\u001b[39m, \u001b[32m1\u001b[39m),\n\u001b[32m      7\u001b[39m           (\u001b[32m1002\u001b[39m, \u001b[33m'\u001b[39m\u001b[33mLily\u001b[39m\u001b[33m'\u001b[39m, \u001b[32m1\u001b[39m, \u001b[32m1\u001b[39m),\n\u001b[32m      8\u001b[39m           (\u001b[32m1003\u001b[39m, \u001b[33m'\u001b[39m\u001b[33mManny\u001b[39m\u001b[33m'\u001b[39m, \u001b[32m3\u001b[39m, \u001b[32m1\u001b[39m),\n\u001b[32m      9\u001b[39m           (\u001b[32m1004\u001b[39m, \u001b[33m'\u001b[39m\u001b[33mDylan\u001b[39m\u001b[33m'\u001b[39m, \u001b[32m2\u001b[39m, \u001b[32m2\u001b[39m,),\n\u001b[32m     10\u001b[39m           (\u001b[32m1005\u001b[39m, \u001b[33m'\u001b[39m\u001b[33mRuben\u001b[39m\u001b[33m'\u001b[39m, \u001b[32m3\u001b[39m, \u001b[32m2\u001b[39m)]\n\u001b[32m     12\u001b[39m cursor.executemany(\u001b[33m\"\u001b[39m\u001b[33mINSERT INTO Students (student_id, name, class, dept_id) VALUES (?,?,?,?)\u001b[39m\u001b[33m\"\u001b[39m, Students)\n",
      "\u001b[31mNameError\u001b[39m: name 'cursor' is not defined"
     ]
    }
   ],
   "source": [
    "Departments=[('Business', 'Luke'),\n",
    "             ('Science', 'Alex')]\n",
    "\n",
    "cursor.executemany(\"INSERT INTO Departments (dept_name, hod_name) VALUES (?,?)\", Departments)\n",
    "\n",
    "Students=[(1001, 'Joe', 2, 1),\n",
    "          (1002, 'Lily', 1, 1),\n",
    "          (1003, 'Manny', 3, 1),\n",
    "          (1004, 'Dylan', 2, 2,),\n",
    "          (1005, 'Ruben', 3, 2)]\n",
    "\n",
    "cursor.executemany(\"INSERT INTO Students (student_id, name, class, dept_id) VALUES (?,?,?,?)\", Students)\n",
    "    \n",
    "Subjects=[(101, 'Math', 1),\n",
    "          (102, 'Physics', 2),\n",
    "          (103, 'Chemistry', 2),\n",
    "          (104, 'English', 1)]\n",
    "\n",
    "cursor.executemany(\"INSERT INTO Subjects (subject_id, subject_name, dept_id) VALUES (?,?,?)\", Subjects)\n",
    "    \n",
    "Marks=[(1001, 101, 83), (1001, 102, 87), (1001, 103, 95), (1001, 104, 86),\n",
    "       (1002, 101, 90), (1002, 102, 84), (1002, 103, 89), (1002, 104, 92),\n",
    "       (1003, 101, 74), (1003, 102, 80), (1003, 103, 79), (1003, 104, 85),\n",
    "       (1004, 101, 81), (1004, 102, 77), (1004, 103, 88), (1004, 104, 85),\n",
    "       (1005, 101, 76), (1005, 102, 86), (1005, 103, 83), (1005, 104, 73)]\n",
    "       \n",
    "cursor.executemany(\"INSERT INTO Marks (student_id, subject_id, marks) VALUES (?,?,?)\", Marks)"
   ]
  },
  {
   "cell_type": "code",
   "execution_count": null,
   "id": "8bb00360-5d16-4ebf-a167-8695104cca65",
   "metadata": {},
   "outputs": [],
   "source": []
  }
 ],
 "metadata": {
  "kernelspec": {
   "display_name": "Python 3",
   "language": "python",
   "name": "python3"
  },
  "language_info": {
   "codemirror_mode": {
    "name": "ipython",
    "version": 3
   },
   "file_extension": ".py",
   "mimetype": "text/x-python",
   "name": "python",
   "nbconvert_exporter": "python",
   "pygments_lexer": "ipython3",
   "version": "3.13.7"
  }
 },
 "nbformat": 4,
 "nbformat_minor": 5
}
