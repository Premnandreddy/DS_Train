{
 "cells": [
  {
   "cell_type": "markdown",
   "id": "1fcef70e-419a-424e-ada3-acf08df91bb8",
   "metadata": {},
   "source": [
    "Design and implement a Complete University Management System in Python using SQLite and functions (def) with the following requirements:\n",
    "\n",
    "1. Database (SQLite) Create the following tables: Departments (dept_id, dept_name, hod_name) Students (student_id, name, class, dept_id) Subjects (subject_id, subject_name, dept_id) Marks (mark_id, student_id, subject_id, marks) Insert: At least 2 departments, 5 students, 4 subjects, and marks for each student in all subjects.\n",
    "2. Python Functions Implement the following: def add_student(name, class, dept_id) def add_subject(subject_name, dept_id) def add_marks(student_id, subject_id, marks) def show_students() → Display students with department name (JOIN) def show_subjects() → Display all subjects with their department def show_marks() → Display each student’s marks with subject names (JOIN) def student_report(student_id) → Show subject-wise marks, total, average, grade, pass/fail def toppers() → Show topper in each subject + overall topper def department_summary() → Show average marks department-wise (JOIN + GROUP BY) def unique_subjects() → Return unique subjects as a set\n"
   ]
  },
  {
   "cell_type": "code",
   "execution_count": 1,
   "id": "3e5b09e8-8e02-4fe6-8bbb-88fc58648c4f",
   "metadata": {},
   "outputs": [],
   "source": [
    "import sqlite3"
   ]
  },
  {
   "cell_type": "code",
   "execution_count": 2,
   "id": "d5aa2503-6003-45d8-8c78-80f3b2960a64",
   "metadata": {},
   "outputs": [],
   "source": [
    "def init_db():\n",
    "    con=sqlite3.connect(\"Uni.db\")\n",
    "    cursor=con.cursor()\n",
    "\n",
    "    cursor.execute(\"\"\"\n",
    "    CREATE TABLE Departments(\n",
    "    dept_id INTEGER PRIMARY KEY AUTOINCREMENT,\n",
    "    dept_name TEXT,\n",
    "    hod_name TEXT)\n",
    "    \"\"\")\n",
    "\n",
    "    cursor.execute(\"\"\"\n",
    "    CREATE TABLE Students(\n",
    "    student_id INTEGER PRIMARY KEY,\n",
    "    name TEXT,\n",
    "    class INTEGER,\n",
    "    dept_id INTEGER,\n",
    "    FOREIGN KEY (dept_id) REFERENCES Departments(dept_id))\n",
    "    \"\"\")\n",
    "\n",
    "    cursor.execute(\"\"\"\n",
    "    CREATE TABLE Subjects(\n",
    "    subject_id INTEGER PRIMARY KEY,\n",
    "    subject_name TEXT,\n",
    "    dept_id INTEGER,\n",
    "    FOREIGN KEY (dept_id) REFERENCES Departments(dept_id))\n",
    "    \"\"\")\n",
    "\n",
    "    cursor.execute(\"\"\"\n",
    "    CREATE TABLE Marks(\n",
    "    mark_id INTEGER PRIMARY KEY AUTOINCREMENT,\n",
    "    student_id INTEGER,\n",
    "    subject_id INTEGER,\n",
    "    marks INTEGER,\n",
    "    FOREIGN KEY (student_id) REFERENCES Students(student_id),\n",
    "    FOREIGN KEY (subject_id) REFERENCES Subjects(subject_id))\n",
    "    \"\"\")\n",
    "    \n",
    "    Departments=[('Business', 'Luke'),\n",
    "             ('Science', 'Alex')]\n",
    "    cursor.executemany(\"INSERT INTO Departments (dept_name, hod_name) VALUES (?,?)\", Departments)\n",
    "    \n",
    "    Students=[(1001, 'Joe', 2, 1),\n",
    "          (1002, 'Lily', 1, 1),\n",
    "          (1003, 'Manny', 3, 1),\n",
    "          (1004, 'Dylan', 2, 2,),\n",
    "          (1005, 'Ruben', 3, 2)]\n",
    "    cursor.executemany(\"INSERT INTO Students (student_id, name, class, dept_id) VALUES (?,?,?,?)\", Students)\n",
    "    \n",
    "    Subjects=[(101, 'Math', 1),\n",
    "          (102, 'Physics', 2),\n",
    "          (103, 'Chemistry', 2),\n",
    "          (104, 'English', 1)]\n",
    "    cursor.executemany(\"INSERT INTO Subjects (subject_id, subject_name, dept_id) VALUES (?,?,?)\", Subjects)\n",
    "    \n",
    "    Marks=[(1001, 101, 83), (1001, 102, 87), (1001, 103, 95), (1001, 104, 86),\n",
    "       (1002, 101, 90), (1002, 102, 84), (1002, 103, 89), (1002, 104, 92),\n",
    "       (1003, 101, 74), (1003, 102, 80), (1003, 103, 79), (1003, 104, 85),\n",
    "       (1004, 101, 81), (1004, 102, 77), (1004, 103, 88), (1004, 104, 85),\n",
    "       (1005, 101, 76), (1005, 102, 86), (1005, 103, 83), (1005, 104, 73)]\n",
    "    cursor.executemany(\"INSERT INTO Marks (student_id, subject_id, marks) VALUES (?,?,?)\", Marks)\n",
    "    \n",
    "    con.commit()\n",
    "    return con"
   ]
  },
  {
   "cell_type": "code",
   "execution_count": 5,
   "id": "97cb4a7c-ca14-4817-944f-ffc7abb30fbf",
   "metadata": {},
   "outputs": [],
   "source": [
    "import sqlite3\n",
    "db_name = \"uni.db\"\n",
    "def get_connection():\n",
    "    return sqlite3.connect(db_name)\n",
    "    \n",
    "def add_student(name, class_, dept_id):\n",
    "    con = get_connection()\n",
    "    cursor = con.cursor()\n",
    "    cursor.execute(\"INSERT INTO Students (name, class, dept_id) VALUES (?, ?, ?)\", (name, class_, dept_id))\n",
    "    con.commit()\n",
    "\n",
    "def add_subject(subject_name, dept_id):\n",
    "    con = get_connection()\n",
    "    cursor = con.cursor()\n",
    "    cursor.execute(\"INSERT INTO Subjects (subject_name, dept_id) VALUES (?, ?)\", (subject_name, dept_id))\n",
    "    con.commit()\n",
    "\n",
    "def add_marks(student_id, subject_id, marks):\n",
    "    con = get_connection()\n",
    "    cursor = con.cursor()\n",
    "    cursor.execute(\"INSERT INTO Marks (student_id, subject_id, marks) VALUES (?, ?, ?)\", (student_id, subject_id, marks))\n",
    "    con.commit()\n",
    "\n",
    "def show_students():\n",
    "    con = get_connection()\n",
    "    cursor = con.cursor()\n",
    "    cursor.execute(\"\"\"\n",
    "        SELECT s.student_id, s.name, s.class, d.dept_name\n",
    "        FROM Students s\n",
    "        JOIN Departments d ON s.dept_id = d.dept_id\n",
    "    \"\"\")\n",
    "    rows = cursor.fetchall()\n",
    "    print(\"Students: \")\n",
    "    for r in rows:\n",
    "        print(r)\n",
    "\n",
    "def show_subjects():\n",
    "    con = get_connection()\n",
    "    cursor = con.cursor()\n",
    "    cursor.execute(\"\"\"\n",
    "        SELECT sub.subject_id, sub.subject_name, d.dept_name\n",
    "        FROM Subjects sub\n",
    "        JOIN Departments d ON sub.dept_id = d.dept_id\n",
    "    \"\"\")\n",
    "    rows = cursor.fetchall()\n",
    "    print(\"Subjects: \")\n",
    "    for r in rows:\n",
    "        print(r)\n",
    "\n",
    "def show_marks():\n",
    "    con = get_connection()\n",
    "    cursor = con.cursor()\n",
    "    cursor.execute(\"\"\"\n",
    "        SELECT s.name, sub.subject_name, m.marks\n",
    "        FROM Marks m\n",
    "        JOIN Students s ON m.student_id = s.student_id\n",
    "        JOIN Subjects sub ON m.subject_id = sub.subject_id\n",
    "    \"\"\")\n",
    "    rows = cursor.fetchall()\n",
    "    print(\"Marks:\")\n",
    "    for r in rows:\n",
    "        print(r)\n",
    "\n",
    "\n",
    "def student_report(student_id):\n",
    "    con = get_connection()\n",
    "    cursor = con.cursor()\n",
    "    cursor.execute(\"\"\"\n",
    "        SELECT sub.subject_name, m.marks\n",
    "        FROM Marks m\n",
    "        JOIN Subjects sub ON m.subject_id = sub.subject_id\n",
    "        WHERE m.student_id = ?\n",
    "    \"\"\", (student_id,))\n",
    "    results = cursor.fetchall()\n",
    "\n",
    "    if not results:\n",
    "        print(\"No records found.\")\n",
    "        return\n",
    "\n",
    "    total = sum([r[1] for r in results])\n",
    "    avg = total / len(results)\n",
    "\n",
    "    # Grade system\n",
    "    if avg >= 90:\n",
    "        grade = \"A+\"\n",
    "    elif avg >= 75:\n",
    "        grade = \"A\"\n",
    "    elif avg >= 60:\n",
    "        grade = \"B\"\n",
    "    elif avg >= 50:\n",
    "        grade = \"C\"\n",
    "    else:\n",
    "        grade = \"F\"\n",
    "\n",
    "    status = \"Pass\" if avg >= 50 else \"Fail\"\n",
    "\n",
    "    print(f\"\\nReport for Student ID {student_id}:\")\n",
    "    for sub, mark in results:\n",
    "        print(f\"{sub}: {mark}\")\n",
    "    print(f\"Total: {total}, Average: {avg:.2f}, Grade: {grade}, Status: {status}\")\n",
    "\n",
    "def toppers():\n",
    "    con = get_connection()\n",
    "    cursor = con.cursor()\n",
    "\n",
    "    cursor.execute(\"\"\"\n",
    "        SELECT sub.subject_name, s.name, MAX(m.marks)\n",
    "        FROM Marks m\n",
    "        JOIN Students s ON m.student_id = s.student_id\n",
    "        JOIN Subjects sub ON m.subject_id = sub.subject_id\n",
    "        GROUP BY sub.subject_id\n",
    "    \"\"\")\n",
    "    subject_toppers = cursor.fetchall()\n",
    "\n",
    "    print(\"\\nSubject-wise Toppers:\")\n",
    "    for row in subject_toppers:\n",
    "        print(f\"{row[0]} -> {row[1]} ({row[2]})\")\n",
    "\n",
    "    cursor.execute(\"\"\"\n",
    "        SELECT s.name, SUM(m.marks) as total\n",
    "        FROM Marks m\n",
    "        JOIN Students s ON m.student_id = s.student_id\n",
    "        GROUP BY s.student_id\n",
    "        ORDER BY total DESC\n",
    "        LIMIT 1\n",
    "    \"\"\")\n",
    "    overall_topper = cursor.fetchone()\n",
    "    print(f\"\\nOverall Topper: {overall_topper[0]} ({overall_topper[1]} marks)\")\n",
    "\n",
    "def department_summary():\n",
    "    con = get_connection()\n",
    "    cursor = con.cursor()\n",
    "    cursor.execute(\"\"\"\n",
    "        SELECT d.dept_name, AVG(m.marks) as avg_marks\n",
    "        FROM Marks m\n",
    "        JOIN Students s ON m.student_id = s.student_id\n",
    "        JOIN Departments d ON s.dept_id = d.dept_id\n",
    "        GROUP BY d.dept_id\n",
    "    \"\"\")\n",
    "    rows = cursor.fetchall()\n",
    "    print(\"\\nDepartment Summary (Average Marks):\")\n",
    "    for r in rows:\n",
    "        print(f\"{r[0]}: {r[1]:.2f}\")\n",
    "\n",
    "def unique_subjects():\n",
    "    con = get_connection()\n",
    "    cursor = con.cursor()\n",
    "    cursor.execute(\"SELECT DISTINCT subject_name FROM Subjects\")\n",
    "    rows = cursor.fetchall()\n",
    "    con.close()\n",
    "    \n",
    "    return {r[0] for r in rows}\n"
   ]
  },
  {
   "cell_type": "code",
   "execution_count": 6,
   "id": "d108d88f-5f8c-4f85-bb94-424bcaa405e5",
   "metadata": {},
   "outputs": [
    {
     "name": "stdout",
     "output_type": "stream",
     "text": [
      "Students: \n",
      "(1001, 'Joe', 2, 'Business')\n",
      "(1002, 'Lily', 1, 'Business')\n",
      "(1003, 'Manny', 3, 'Business')\n",
      "(1004, 'Dylan', 2, 'Science')\n",
      "(1005, 'Ruben', 3, 'Science')\n"
     ]
    }
   ],
   "source": [
    "show_students()"
   ]
  },
  {
   "cell_type": "code",
   "execution_count": 7,
   "id": "306ea59d-a755-4ff9-abf0-b980a70bc60e",
   "metadata": {},
   "outputs": [
    {
     "name": "stdout",
     "output_type": "stream",
     "text": [
      "Subjects: \n",
      "(101, 'Math', 'Business')\n",
      "(102, 'Physics', 'Science')\n",
      "(103, 'Chemistry', 'Science')\n",
      "(104, 'English', 'Business')\n"
     ]
    }
   ],
   "source": [
    "show_subjects()"
   ]
  },
  {
   "cell_type": "code",
   "execution_count": 8,
   "id": "f0a49b48-114e-450f-96d6-7765cbf53b09",
   "metadata": {},
   "outputs": [
    {
     "name": "stdout",
     "output_type": "stream",
     "text": [
      "Marks:\n",
      "('Joe', 'Math', 83)\n",
      "('Joe', 'Physics', 87)\n",
      "('Joe', 'Chemistry', 95)\n",
      "('Joe', 'English', 86)\n",
      "('Lily', 'Math', 90)\n",
      "('Lily', 'Physics', 84)\n",
      "('Lily', 'Chemistry', 89)\n",
      "('Lily', 'English', 92)\n",
      "('Manny', 'Math', 74)\n",
      "('Manny', 'Physics', 80)\n",
      "('Manny', 'Chemistry', 79)\n",
      "('Manny', 'English', 85)\n",
      "('Dylan', 'Math', 81)\n",
      "('Dylan', 'Physics', 77)\n",
      "('Dylan', 'Chemistry', 88)\n",
      "('Dylan', 'English', 85)\n",
      "('Ruben', 'Math', 76)\n",
      "('Ruben', 'Physics', 86)\n",
      "('Ruben', 'Chemistry', 83)\n",
      "('Ruben', 'English', 73)\n"
     ]
    }
   ],
   "source": [
    "show_marks()"
   ]
  },
  {
   "cell_type": "code",
   "execution_count": 9,
   "id": "82df82f1-9a66-4567-b78f-f5fb5d620bec",
   "metadata": {},
   "outputs": [
    {
     "name": "stdout",
     "output_type": "stream",
     "text": [
      "\n",
      "Report for Student ID 1002:\n",
      "Math: 90\n",
      "Physics: 84\n",
      "Chemistry: 89\n",
      "English: 92\n",
      "Total: 355, Average: 88.75, Grade: A, Status: Pass\n"
     ]
    }
   ],
   "source": [
    "student_report(1002)"
   ]
  },
  {
   "cell_type": "code",
   "execution_count": 10,
   "id": "1a007d73-ffa2-46d9-8aae-a7945e887e6b",
   "metadata": {},
   "outputs": [
    {
     "name": "stdout",
     "output_type": "stream",
     "text": [
      "\n",
      "Subject-wise Toppers:\n",
      "Math -> Lily (90)\n",
      "Physics -> Joe (87)\n",
      "Chemistry -> Joe (95)\n",
      "English -> Lily (92)\n",
      "\n",
      "Overall Topper: Lily (355 marks)\n"
     ]
    }
   ],
   "source": [
    "toppers()"
   ]
  },
  {
   "cell_type": "code",
   "execution_count": 11,
   "id": "d650acdb-72b7-4b6d-8710-e24854caadcb",
   "metadata": {},
   "outputs": [
    {
     "name": "stdout",
     "output_type": "stream",
     "text": [
      "\n",
      "Department Summary (Average Marks):\n",
      "Business: 85.33\n",
      "Science: 81.12\n"
     ]
    }
   ],
   "source": [
    "department_summary()"
   ]
  },
  {
   "cell_type": "code",
   "execution_count": 12,
   "id": "97d2f960-7815-42a0-b601-92bff649a4a9",
   "metadata": {},
   "outputs": [
    {
     "name": "stdout",
     "output_type": "stream",
     "text": [
      "{'English', 'Math', 'Chemistry', 'Physics'}\n"
     ]
    }
   ],
   "source": [
    "print(unique_subjects())"
   ]
  },
  {
   "cell_type": "code",
   "execution_count": null,
   "id": "fe7a3bfe-026a-40da-9583-257bbc608b8c",
   "metadata": {},
   "outputs": [],
   "source": []
  }
 ],
 "metadata": {
  "kernelspec": {
   "display_name": "Python 3 (ipykernel)",
   "language": "python",
   "name": "python3"
  },
  "language_info": {
   "codemirror_mode": {
    "name": "ipython",
    "version": 3
   },
   "file_extension": ".py",
   "mimetype": "text/x-python",
   "name": "python",
   "nbconvert_exporter": "python",
   "pygments_lexer": "ipython3",
   "version": "3.13.7"
  }
 },
 "nbformat": 4,
 "nbformat_minor": 5
}
